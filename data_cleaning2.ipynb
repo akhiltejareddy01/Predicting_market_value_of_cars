{
 "cells": [
  {
   "cell_type": "code",
   "execution_count": 1,
   "metadata": {},
   "outputs": [],
   "source": [
    "import numpy as np\n",
    "import pandas as pd"
   ]
  },
  {
   "cell_type": "code",
   "execution_count": 2,
   "metadata": {},
   "outputs": [
    {
     "data": {
      "text/html": [
       "<div>\n",
       "<style scoped>\n",
       "    .dataframe tbody tr th:only-of-type {\n",
       "        vertical-align: middle;\n",
       "    }\n",
       "\n",
       "    .dataframe tbody tr th {\n",
       "        vertical-align: top;\n",
       "    }\n",
       "\n",
       "    .dataframe thead th {\n",
       "        text-align: right;\n",
       "    }\n",
       "</style>\n",
       "<table border=\"1\" class=\"dataframe\">\n",
       "  <thead>\n",
       "    <tr style=\"text-align: right;\">\n",
       "      <th></th>\n",
       "      <th>Unnamed: 0</th>\n",
       "      <th>vin</th>\n",
       "      <th>listing_price</th>\n",
       "      <th>listing_mileage</th>\n",
       "      <th>car</th>\n",
       "    </tr>\n",
       "  </thead>\n",
       "  <tbody>\n",
       "    <tr>\n",
       "      <th>0</th>\n",
       "      <td>1</td>\n",
       "      <td>3GTP1NEJ7HG400459</td>\n",
       "      <td>32999.0</td>\n",
       "      <td>99697.0</td>\n",
       "      <td>2017 GMC Sierra 1500</td>\n",
       "    </tr>\n",
       "    <tr>\n",
       "      <th>1</th>\n",
       "      <td>2</td>\n",
       "      <td>1B7HF13Z1XJ596452</td>\n",
       "      <td>6495.0</td>\n",
       "      <td>171168.0</td>\n",
       "      <td>1999 Dodge Ram Pickup 1500</td>\n",
       "    </tr>\n",
       "    <tr>\n",
       "      <th>2</th>\n",
       "      <td>5</td>\n",
       "      <td>JM1DKDB74M1500563</td>\n",
       "      <td>24999.0</td>\n",
       "      <td>15854.0</td>\n",
       "      <td>2021 Mazda CX-3</td>\n",
       "    </tr>\n",
       "    <tr>\n",
       "      <th>3</th>\n",
       "      <td>8</td>\n",
       "      <td>WAUKF78P99A015926</td>\n",
       "      <td>10990.0</td>\n",
       "      <td>100321.0</td>\n",
       "      <td>2009 Audi A3</td>\n",
       "    </tr>\n",
       "    <tr>\n",
       "      <th>4</th>\n",
       "      <td>9</td>\n",
       "      <td>1C4BJWEGXEL210903</td>\n",
       "      <td>22995.0</td>\n",
       "      <td>142650.0</td>\n",
       "      <td>2014 Jeep Wrangler Unlimited</td>\n",
       "    </tr>\n",
       "  </tbody>\n",
       "</table>\n",
       "</div>"
      ],
      "text/plain": [
       "   Unnamed: 0                vin  listing_price  listing_mileage  \\\n",
       "0           1  3GTP1NEJ7HG400459        32999.0          99697.0   \n",
       "1           2  1B7HF13Z1XJ596452         6495.0         171168.0   \n",
       "2           5  JM1DKDB74M1500563        24999.0          15854.0   \n",
       "3           8  WAUKF78P99A015926        10990.0         100321.0   \n",
       "4           9  1C4BJWEGXEL210903        22995.0         142650.0   \n",
       "\n",
       "                            car  \n",
       "0          2017 GMC Sierra 1500  \n",
       "1    1999 Dodge Ram Pickup 1500  \n",
       "2               2021 Mazda CX-3  \n",
       "3                  2009 Audi A3  \n",
       "4  2014 Jeep Wrangler Unlimited  "
      ]
     },
     "execution_count": 2,
     "metadata": {},
     "output_type": "execute_result"
    }
   ],
   "source": [
    "data = pd.read_csv('E:/car model listing/car_data2.csv')\n",
    "data.head()"
   ]
  },
  {
   "cell_type": "code",
   "execution_count": 7,
   "metadata": {},
   "outputs": [
    {
     "name": "stderr",
     "output_type": "stream",
     "text": [
      "C:\\Users\\AKHIL TEJA REDDY Y\\AppData\\Local\\Temp\\ipykernel_14516\\3202665767.py:2: FutureWarning: The default value of regex will change from True to False in a future version. In addition, single character regular expressions will *not* be treated as literal strings when regex=True.\n",
      "  data['car']=data['car'].str.replace('*',\"\")\n"
     ]
    }
   ],
   "source": [
    "data['car']=data['car'].str.replace(',',\"\")\n",
    "data['car']=data['car'].str.replace('*',\"\")\n",
    "data.head()\n",
    "data.to_csv('car_data3.csv')"
   ]
  }
 ],
 "metadata": {
  "kernelspec": {
   "display_name": "Python 3",
   "language": "python",
   "name": "python3"
  },
  "language_info": {
   "codemirror_mode": {
    "name": "ipython",
    "version": 3
   },
   "file_extension": ".py",
   "mimetype": "text/x-python",
   "name": "python",
   "nbconvert_exporter": "python",
   "pygments_lexer": "ipython3",
   "version": "3.11.2"
  },
  "orig_nbformat": 4
 },
 "nbformat": 4,
 "nbformat_minor": 2
}
